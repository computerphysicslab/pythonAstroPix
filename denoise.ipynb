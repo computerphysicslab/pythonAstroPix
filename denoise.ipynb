{
 "cells": [
  {
   "attachments": {},
   "cell_type": "markdown",
   "metadata": {},
   "source": [
    "Filtro de mediana (median filter): Este filtro es útil para eliminar el ruido impulsivo (como el ruido de sal y pimienta) de una imagen. Se implementa en la biblioteca OpenCV y se utiliza la función cv2.medianBlur()."
   ]
  },
  {
   "cell_type": "code",
   "execution_count": 4,
   "metadata": {},
   "outputs": [
    {
     "data": {
      "text/plain": [
       "True"
      ]
     },
     "execution_count": 4,
     "metadata": {},
     "output_type": "execute_result"
    }
   ],
   "source": [
    "# pip3 install opencv-python\n",
    "# pip3 install opencv-python-headless\n",
    "\n",
    "import cv2\n",
    "import numpy as np\n",
    "\n",
    "# Cargar la imagen\n",
    "img = cv2.imread('imagen.jpg')\n",
    "\n",
    "# Aplicar el filtro de mediana\n",
    "img_filtrada = cv2.medianBlur(img, 15)\n",
    "\n",
    "# Guardar la imagen filtrada\n",
    "cv2.imwrite('imagen_filtrada.jpg', img_filtrada)\n",
    "\n",
    "# Restar la imagen filtrada de la imagen original\n",
    "img_restada = np.abs(img - img_filtrada)\n",
    "cv2.imwrite('imgen_restada.jpg', img_restada)\n",
    "\n",
    "# Mostrar la imagen restada\n",
    "# cv2.imshow('Imagen restada', img_restada)\n",
    "# cv2.waitKey(0)\n",
    "# cv2.destroyAllWindows()\n",
    "\n",
    "# Error loading renderer 'jupyter-error-renderer'\n",
    "# Failed to fetch dynamically imported module:\n",
    "# https://file+.vscode-resource.vscode-cdn.net/\n",
    "# .vscode/extensions/ms-toolsai.jupyter-2022.11.1003412109/out/webviews/webview-side/errorRenderer/errorRenderer.js\n",
    "# pip3 install nbconvert --upgrade\n",
    "# reiniciar VSCode"
   ]
  }
 ],
 "metadata": {
  "kernelspec": {
   "display_name": "Python 3",
   "language": "python",
   "name": "python3"
  },
  "language_info": {
   "codemirror_mode": {
    "name": "ipython",
    "version": 3
   },
   "file_extension": ".py",
   "mimetype": "text/x-python",
   "name": "python",
   "nbconvert_exporter": "python",
   "pygments_lexer": "ipython3",
   "version": "3.8.10"
  },
  "orig_nbformat": 4,
  "vscode": {
   "interpreter": {
    "hash": "916dbcbb3f70747c44a77c7bcd40155683ae19c65e1c03b4aa3499c5328201f1"
   }
  }
 },
 "nbformat": 4,
 "nbformat_minor": 2
}
